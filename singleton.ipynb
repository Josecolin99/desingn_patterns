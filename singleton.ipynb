{
 "cells": [
  {
   "cell_type": "markdown",
   "id": "e775d6fb",
   "metadata": {},
   "source": [
    "# Singleton\n",
    "\n",
    "Este patron de diseño sirve cuando se requiere una unica fuente de la verdad de datos.\n",
    "Permite que solo se tenga una unica instancia de una Clase.\n",
    "Cuando se se llama por primera vez se crea, pero apartir de ahi se consulta la misma instnacia\n",
    "Sirve cunado se quiere una unica funete de la \"Verdad\"\n",
    "\n",
    "## 🧠 Ejemplos prácticos del patrón Singleton\n",
    "\n",
    "1. **Configuración global de la aplicación**  \n",
    "   Una clase que guarda variables como rutas, claves, entornos (dev/prod).\n",
    "\n",
    "2. **Conexión a base de datos**  \n",
    "   Solo se necesita una instancia para evitar múltiples conexiones innecesarias.\n",
    "\n",
    "3. **Logger (registro de eventos)**  \n",
    "   Para asegurar que todo el sistema escriba en el mismo archivo o formato.\n",
    "\n",
    "4. **Administrador de recursos**  \n",
    "   Por ejemplo, acceso a archivos, sockets o memoria compartida.\n",
    "\n",
    "5. **Controlador de hilos (Thread Manager)**  \n",
    "   Para evitar que se creen múltiples controladores innecesarios.\n",
    "\n",
    "6. **Gestor de ventanas en GUI**  \n",
    "   Donde solo puede existir una ventana principal o de configuración.\n",
    "\n",
    "7. **Cache o gestor de sesión**  \n",
    "   Se requiere una instancia única para almacenar datos temporalmente.\n",
    "\n",
    "8. **Controlador de juego (Game Manager)**  \n",
    "   En videojuegos, donde se maneja el estado general del juego.\n"
   ]
  },
  {
   "cell_type": "code",
   "execution_count": 4,
   "id": "96b9e16b",
   "metadata": {},
   "outputs": [
    {
     "ename": "Exception",
     "evalue": "Esta clase es un singleton, no se pueden crear más de una instancia.",
     "output_type": "error",
     "traceback": [
      "\u001b[31m---------------------------------------------------------------------------\u001b[39m",
      "\u001b[31mException\u001b[39m                                 Traceback (most recent call last)",
      "\u001b[36mCell\u001b[39m\u001b[36m \u001b[39m\u001b[32mIn[2]\u001b[39m\u001b[32m, line 22\u001b[39m\n\u001b[32m     19\u001b[39m singleton1 = Singleton.getInstance()\n\u001b[32m     20\u001b[39m singleton2 = Singleton.getInstance()\n\u001b[32m---> \u001b[39m\u001b[32m22\u001b[39m a = \u001b[43mSingleton\u001b[49m\u001b[43m(\u001b[49m\u001b[43m)\u001b[49m\n\u001b[32m     23\u001b[39m b = Singleton()\n\u001b[32m     25\u001b[39m \u001b[38;5;66;03m# Comprobamos si ambas instancias son la misma\u001b[39;00m\n",
      "\u001b[36mCell\u001b[39m\u001b[36m \u001b[39m\u001b[32mIn[2]\u001b[39m\u001b[32m, line 14\u001b[39m, in \u001b[36mSingleton.__init__\u001b[39m\u001b[34m(self)\u001b[39m\n\u001b[32m     11\u001b[39m \u001b[38;5;28;01mdef\u001b[39;00m\u001b[38;5;250m \u001b[39m\u001b[34m__init__\u001b[39m(\u001b[38;5;28mself\u001b[39m):\n\u001b[32m     12\u001b[39m     \u001b[38;5;66;03m# El constructor es privado para asegurarnos de que sólo se puede crear una instancia\u001b[39;00m\n\u001b[32m     13\u001b[39m     \u001b[38;5;28;01mif\u001b[39;00m Singleton.__instance != \u001b[38;5;28;01mNone\u001b[39;00m:\n\u001b[32m---> \u001b[39m\u001b[32m14\u001b[39m         \u001b[38;5;28;01mraise\u001b[39;00m \u001b[38;5;167;01mException\u001b[39;00m(\u001b[33m\"\u001b[39m\u001b[33mEsta clase es un singleton, no se pueden crear más de una instancia.\u001b[39m\u001b[33m\"\u001b[39m)\n\u001b[32m     15\u001b[39m     \u001b[38;5;28;01melse\u001b[39;00m:\n\u001b[32m     16\u001b[39m         Singleton.__instance = \u001b[38;5;28mself\u001b[39m\n",
      "\u001b[31mException\u001b[39m: Esta clase es un singleton, no se pueden crear más de una instancia."
     ]
    }
   ],
   "source": [
    "class Singleton:\n",
    "    __instance = None\n",
    "\n",
    "    @staticmethod\n",
    "    def getInstance():\n",
    "        # Función que permite acceder a la instancia única de la clase\n",
    "        if Singleton.__instance == None:\n",
    "            Singleton()\n",
    "        return Singleton.__instance\n",
    "\n",
    "    def __init__(self):\n",
    "        # El constructor es privado para asegurarnos de que sólo se puede crear una instancia\n",
    "        if Singleton.__instance != None:\n",
    "            raise Exception(\"Esta clase es un singleton, no se pueden crear más de una instancia.\")\n",
    "        else:\n",
    "            Singleton.__instance = self\n",
    "\n",
    "# Creamos dos instancias de la clase Singleton\n",
    "singleton1 = Singleton.getInstance()\n",
    "singleton2 = Singleton.getInstance()\n",
    "\n",
    "# Comprobamos si ambas instancias son la misma\n",
    "print(singleton1 is singleton2)"
   ]
  }
 ],
 "metadata": {
  "kernelspec": {
   "display_name": "venv",
   "language": "python",
   "name": "python3"
  },
  "language_info": {
   "codemirror_mode": {
    "name": "ipython",
    "version": 3
   },
   "file_extension": ".py",
   "mimetype": "text/x-python",
   "name": "python",
   "nbconvert_exporter": "python",
   "pygments_lexer": "ipython3",
   "version": "3.13.3"
  }
 },
 "nbformat": 4,
 "nbformat_minor": 5
}
