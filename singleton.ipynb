{
 "cells": [
  {
   "cell_type": "markdown",
   "id": "e775d6fb",
   "metadata": {},
   "source": [
    "# Singleton\n",
    "\n",
    "Este patron de diseño sirve cuando se requiere una unica fuente de la verdad de datos.\n",
    "Permite que solo se tenga una unica instancia de una Clase.\n",
    "Cuando se se llama por primera vez se crea, pero apartir de ahi se consulta la misma instnacia\n",
    "Sirve cunado se quiere una unica funete de la \"Verdad\"\n",
    "\n",
    "## 🧠 Ejemplos prácticos del patrón Singleton\n",
    "\n",
    "1. **Configuración global de la aplicación**  \n",
    "   Una clase que guarda variables como rutas, claves, entornos (dev/prod).\n",
    "\n",
    "2. **Conexión a base de datos**  \n",
    "   Solo se necesita una instancia para evitar múltiples conexiones innecesarias.\n",
    "\n",
    "3. **Logger (registro de eventos)**  \n",
    "   Para asegurar que todo el sistema escriba en el mismo archivo o formato.\n",
    "\n",
    "4. **Administrador de recursos**  \n",
    "   Por ejemplo, acceso a archivos, sockets o memoria compartida.\n",
    "\n",
    "5. **Controlador de hilos (Thread Manager)**  \n",
    "   Para evitar que se creen múltiples controladores innecesarios.\n",
    "\n",
    "6. **Gestor de ventanas en GUI**  \n",
    "   Donde solo puede existir una ventana principal o de configuración.\n",
    "\n",
    "7. **Cache o gestor de sesión**  \n",
    "   Se requiere una instancia única para almacenar datos temporalmente.\n",
    "\n",
    "8. **Controlador de juego (Game Manager)**  \n",
    "   En videojuegos, donde se maneja el estado general del juego.\n"
   ]
  },
  {
   "cell_type": "code",
   "execution_count": 4,
   "id": "96b9e16b",
   "metadata": {},
   "outputs": [
    {
     "name": "stdout",
     "output_type": "stream",
     "text": [
      "True\n"
     ]
    }
   ],
   "source": [
    "class Singleton:\n",
    "    __instance = None\n",
    "\n",
    "    @staticmethod\n",
    "    def getInstance():\n",
    "        # Función que permite acceder a la instancia única de la clase\n",
    "        if Singleton.__instance == None:\n",
    "            Singleton()\n",
    "        return Singleton.__instance\n",
    "\n",
    "    def __init__(self):\n",
    "        # El constructor es privado para asegurarnos de que sólo se puede crear una instancia\n",
    "        if Singleton.__instance != None:\n",
    "            raise Exception(\"Esta clase es un singleton, no se pueden crear más de una instancia.\")\n",
    "        else:\n",
    "            Singleton.__instance = self\n",
    "\n",
    "# Creamos dos instancias de la clase Singleton\n",
    "singleton1 = Singleton.getInstance()\n",
    "singleton2 = Singleton.getInstance()\n",
    "\n",
    "# Comprobamos si ambas instancias son la misma\n",
    "print(singleton1 is singleton2)"
   ]
  }
 ],
 "metadata": {
  "kernelspec": {
   "display_name": "venv",
   "language": "python",
   "name": "python3"
  },
  "language_info": {
   "codemirror_mode": {
    "name": "ipython",
    "version": 3
   },
   "file_extension": ".py",
   "mimetype": "text/x-python",
   "name": "python",
   "nbconvert_exporter": "python",
   "pygments_lexer": "ipython3",
   "version": "3.13.3"
  }
 },
 "nbformat": 4,
 "nbformat_minor": 5
}
